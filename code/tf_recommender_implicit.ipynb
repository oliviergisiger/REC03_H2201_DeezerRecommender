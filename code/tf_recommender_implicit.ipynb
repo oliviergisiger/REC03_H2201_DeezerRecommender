{
 "cells": [
  {
   "attachments": {},
   "cell_type": "markdown",
   "metadata": {},
   "source": [
    "# Model Build\n",
    "\n",
    "<font color='red'>NOTE</font>\n",
    " \n"
   ]
  },
  {
   "cell_type": "code",
   "execution_count": 1,
   "metadata": {},
   "outputs": [
    {
     "name": "stderr",
     "output_type": "stream",
     "text": [
      "/Users/nathanaeljost/.local/share/virtualenvs/deezer_recommendation-LXH-S8nB/lib/python3.10/site-packages/tqdm/auto.py:21: TqdmWarning: IProgress not found. Please update jupyter and ipywidgets. See https://ipywidgets.readthedocs.io/en/stable/user_install.html\n",
      "  from .autonotebook import tqdm as notebook_tqdm\n"
     ]
    }
   ],
   "source": [
    "import numpy as np\n",
    "import pandas as pd\n",
    "import time\n",
    "\n",
    "import tensorflow as tf\n",
    "import tensorflow_recommenders as tfrs\n",
    "import tensorflow_datasets as tfds\n",
    "\n",
    "from numpy import count_nonzero\n",
    "\n",
    "from typing import Dict, Text"
   ]
  },
  {
   "cell_type": "code",
   "execution_count": 2,
   "metadata": {},
   "outputs": [],
   "source": [
    "train_df = pd.read_csv('../data/train.csv')\n",
    "test_df = pd.read_csv('../data/test.csv')"
   ]
  },
  {
   "cell_type": "code",
   "execution_count": 3,
   "metadata": {},
   "outputs": [
    {
     "name": "stderr",
     "output_type": "stream",
     "text": [
      "/var/folders/48/hls1bn594jv01b8czjn52sp80000gn/T/ipykernel_34372/40870951.py:8: SettingWithCopyWarning: \n",
      "A value is trying to be set on a copy of a slice from a DataFrame.\n",
      "Try using .loc[row_indexer,col_indexer] = value instead\n",
      "\n",
      "See the caveats in the documentation: https://pandas.pydata.org/pandas-docs/stable/user_guide/indexing.html#returning-a-view-versus-a-copy\n",
      "  train_listened_small[['user_id', 'media_id']] = train_listened_small[['user_id', 'media_id']].astype(str)\n"
     ]
    }
   ],
   "source": [
    "# filter for is listened == 1\n",
    "\n",
    "train_listened = train_df[train_df['is_listened'] == 1]\n",
    "train_listened.reset_index(inplace=True, drop=True)\n",
    "\n",
    "# only first 100'000 records\n",
    "train_listened_small = train_listened.loc[:99999]\n",
    "train_listened_small[['user_id', 'media_id']] = train_listened_small[['user_id', 'media_id']].astype(str)\n"
   ]
  },
  {
   "cell_type": "code",
   "execution_count": 4,
   "metadata": {},
   "outputs": [
    {
     "name": "stdout",
     "output_type": "stream",
     "text": [
      "WARNING:tensorflow:From /Users/nathanaeljost/.local/share/virtualenvs/deezer_recommendation-LXH-S8nB/lib/python3.10/site-packages/tensorflow/python/autograph/pyct/static_analysis/liveness.py:83: Analyzer.lamba_check (from tensorflow.python.autograph.pyct.static_analysis.liveness) is deprecated and will be removed after 2023-09-23.\n",
      "Instructions for updating:\n",
      "Lambda fuctions will be no more assumed to be used in the statement where they are used, or at least in the same block. https://github.com/tensorflow/tensorflow/issues/56089\n",
      "<MapDataset element_spec={'user_id': TensorSpec(shape=(), dtype=tf.string, name=None), 'is_listened': TensorSpec(shape=(), dtype=tf.int64, name=None), 'media_id': TensorSpec(shape=(), dtype=tf.string, name=None), 'timestamp': TensorSpec(shape=(), dtype=tf.int64, name=None)}>\n"
     ]
    }
   ],
   "source": [
    "# convert to tfds datset\n",
    "\n",
    "deezer_ratings = tf.data.Dataset.from_tensor_slices(dict(train_listened_small)).\\\n",
    "    map(lambda x: {\n",
    "    'user_id': x['user_id'], \n",
    "    'is_listened': x['is_listened'], \n",
    "    'media_id': x['media_id'], \n",
    "    'timestamp': x['ts_listen']})\n",
    "\n",
    "# get sample for overview\n",
    "# for x in deezer_ratings.take(5).as_numpy_iterator():\n",
    "#   print(x)\n",
    "\n",
    "# assert correct object type\n",
    "print(deezer_ratings)"
   ]
  },
  {
   "cell_type": "code",
   "execution_count": 5,
   "metadata": {},
   "outputs": [],
   "source": [
    "tf.random.set_seed(42)\n",
    "shuffled = deezer_ratings.shuffle(100_000, seed=42, reshuffle_each_iteration=False)\n",
    "\n",
    "train = shuffled.take(80_000)\n",
    "test = shuffled.skip(80_000).take(2_000)"
   ]
  },
  {
   "cell_type": "code",
   "execution_count": 6,
   "metadata": {},
   "outputs": [
    {
     "name": "stderr",
     "output_type": "stream",
     "text": [
      "2023-03-17 10:02:58.908752: W tensorflow/tsl/platform/profile_utils/cpu_utils.cc:128] Failed to get CPU frequency: 0 Hz\n"
     ]
    }
   ],
   "source": [
    "songs = deezer_ratings.map(lambda x: x[\"media_id\"])\n",
    "user = deezer_ratings.map(lambda x: x[\"user_id\"])\n",
    "\n",
    "song_ids = deezer_ratings.batch(1_000_000).map(lambda x: x[\"media_id\"])\n",
    "user_ids = deezer_ratings.batch(1_000_000).map(lambda x: x[\"user_id\"])\n",
    "\n",
    "unique_song_ids = np.unique(np.concatenate(list(song_ids)))\n",
    "unique_user_ids = np.unique(np.concatenate(list(user_ids)))\n"
   ]
  },
  {
   "cell_type": "code",
   "execution_count": 7,
   "metadata": {},
   "outputs": [],
   "source": [
    "# define user and item models\n",
    "\n",
    "embedding_dimension = 32\n",
    "\n",
    "# Compute embeddings for users.\n",
    "user_model = tf.keras.Sequential([\n",
    "    tf.keras.layers.StringLookup(\n",
    "    vocabulary=unique_user_ids, mask_token=None),\n",
    "    tf.keras.layers.Embedding(len(unique_user_ids) + 1, embedding_dimension)\n",
    "])\n",
    "\n",
    "# Compute embeddings for movies.\n",
    "song_model = tf.keras.Sequential([\n",
    "    tf.keras.layers.StringLookup(\n",
    "    vocabulary=unique_song_ids, mask_token=None),\n",
    "    tf.keras.layers.Embedding(len(unique_song_ids) + 1, embedding_dimension)\n",
    "])\n",
    "\n",
    "# get top k recommendations\n",
    "metrics = tfrs.metrics.FactorizedTopK(\n",
    "  candidates=song_ids.map(song_model)\n",
    ")\n",
    "task = tfrs.tasks.Retrieval(\n",
    "  metrics=metrics\n",
    ")"
   ]
  },
  {
   "cell_type": "code",
   "execution_count": 8,
   "metadata": {},
   "outputs": [],
   "source": [
    "class DeezerRecModel(tfrs.Model):\n",
    "\n",
    "  def __init__(self, user_model, song_model):\n",
    "    super().__init__()\n",
    "    self.song_model = tf.keras.Model = song_model\n",
    "    self.user_model: tf.keras.Model = user_model\n",
    "\n",
    "    self.task: tf.keras.layers.Layer = task\n",
    "\n",
    "  def compute_loss(self, features: Dict[Text, tf.Tensor], training=False) -> tf.Tensor:\n",
    "    user_embeddings = self.user_model(features[\"user_id\"])\n",
    "    positive_song_embeddings = self.song_model(features[\"media_id\"])\n",
    "    return self.task(user_embeddings, positive_song_embeddings)"
   ]
  },
  {
   "cell_type": "code",
   "execution_count": 9,
   "metadata": {},
   "outputs": [
    {
     "name": "stdout",
     "output_type": "stream",
     "text": [
      "Epoch 1/20\n",
      "10/10 [==============================] - 44s 4s/step - factorized_top_k/top_1_categorical_accuracy: 0.0011 - factorized_top_k/top_5_categorical_accuracy: 0.0011 - factorized_top_k/top_10_categorical_accuracy: 0.0012 - factorized_top_k/top_50_categorical_accuracy: 0.0032 - factorized_top_k/top_100_categorical_accuracy: 0.0072 - loss: 67231.7393 - regularization_loss: 0.0000e+00 - total_loss: 67231.7393      \n",
      "Epoch 2/20\n",
      "10/10 [==============================] - 42s 4s/step - factorized_top_k/top_1_categorical_accuracy: 0.0206 - factorized_top_k/top_5_categorical_accuracy: 0.0206 - factorized_top_k/top_10_categorical_accuracy: 0.0208 - factorized_top_k/top_50_categorical_accuracy: 0.0345 - factorized_top_k/top_100_categorical_accuracy: 0.0526 - loss: 57903.8459 - regularization_loss: 0.0000e+00 - total_loss: 57903.8459\n",
      "Epoch 3/20\n",
      "10/10 [==============================] - 42s 4s/step - factorized_top_k/top_1_categorical_accuracy: 0.0482 - factorized_top_k/top_5_categorical_accuracy: 0.0483 - factorized_top_k/top_10_categorical_accuracy: 0.0504 - factorized_top_k/top_50_categorical_accuracy: 0.0788 - factorized_top_k/top_100_categorical_accuracy: 0.1121 - loss: 52565.3821 - regularization_loss: 0.0000e+00 - total_loss: 52565.3821\n",
      "Epoch 4/20\n",
      "10/10 [==============================] - 43s 4s/step - factorized_top_k/top_1_categorical_accuracy: 0.0682 - factorized_top_k/top_5_categorical_accuracy: 0.0688 - factorized_top_k/top_10_categorical_accuracy: 0.0732 - factorized_top_k/top_50_categorical_accuracy: 0.1172 - factorized_top_k/top_100_categorical_accuracy: 0.1598 - loss: 49413.6491 - regularization_loss: 0.0000e+00 - total_loss: 49413.6491\n",
      "Epoch 5/20\n",
      "10/10 [==============================] - 42s 4s/step - factorized_top_k/top_1_categorical_accuracy: 0.0797 - factorized_top_k/top_5_categorical_accuracy: 0.0816 - factorized_top_k/top_10_categorical_accuracy: 0.0893 - factorized_top_k/top_50_categorical_accuracy: 0.1435 - factorized_top_k/top_100_categorical_accuracy: 0.1931 - loss: 47287.1136 - regularization_loss: 0.0000e+00 - total_loss: 47287.1136\n",
      "Epoch 6/20\n",
      "10/10 [==============================] - 43s 4s/step - factorized_top_k/top_1_categorical_accuracy: 0.0881 - factorized_top_k/top_5_categorical_accuracy: 0.0916 - factorized_top_k/top_10_categorical_accuracy: 0.1023 - factorized_top_k/top_50_categorical_accuracy: 0.1637 - factorized_top_k/top_100_categorical_accuracy: 0.2164 - loss: 45743.0110 - regularization_loss: 0.0000e+00 - total_loss: 45743.0110\n",
      "Epoch 7/20\n",
      "10/10 [==============================] - 42s 4s/step - factorized_top_k/top_1_categorical_accuracy: 0.0942 - factorized_top_k/top_5_categorical_accuracy: 0.0991 - factorized_top_k/top_10_categorical_accuracy: 0.1120 - factorized_top_k/top_50_categorical_accuracy: 0.1806 - factorized_top_k/top_100_categorical_accuracy: 0.2368 - loss: 44560.0039 - regularization_loss: 0.0000e+00 - total_loss: 44560.0039\n",
      "Epoch 8/20\n",
      "10/10 [==============================] - 42s 4s/step - factorized_top_k/top_1_categorical_accuracy: 0.0974 - factorized_top_k/top_5_categorical_accuracy: 0.1044 - factorized_top_k/top_10_categorical_accuracy: 0.1191 - factorized_top_k/top_50_categorical_accuracy: 0.1942 - factorized_top_k/top_100_categorical_accuracy: 0.2531 - loss: 43625.7923 - regularization_loss: 0.0000e+00 - total_loss: 43625.7923\n",
      "Epoch 9/20\n",
      "10/10 [==============================] - 43s 4s/step - factorized_top_k/top_1_categorical_accuracy: 0.0986 - factorized_top_k/top_5_categorical_accuracy: 0.1077 - factorized_top_k/top_10_categorical_accuracy: 0.1239 - factorized_top_k/top_50_categorical_accuracy: 0.2051 - factorized_top_k/top_100_categorical_accuracy: 0.2657 - loss: 42868.1825 - regularization_loss: 0.0000e+00 - total_loss: 42868.1825\n",
      "Epoch 10/20\n",
      "10/10 [==============================] - 42s 4s/step - factorized_top_k/top_1_categorical_accuracy: 0.0997 - factorized_top_k/top_5_categorical_accuracy: 0.1111 - factorized_top_k/top_10_categorical_accuracy: 0.1289 - factorized_top_k/top_50_categorical_accuracy: 0.2140 - factorized_top_k/top_100_categorical_accuracy: 0.2755 - loss: 42246.8778 - regularization_loss: 0.0000e+00 - total_loss: 42246.8778\n",
      "Epoch 11/20\n",
      "10/10 [==============================] - 43s 4s/step - factorized_top_k/top_1_categorical_accuracy: 0.1006 - factorized_top_k/top_5_categorical_accuracy: 0.1133 - factorized_top_k/top_10_categorical_accuracy: 0.1324 - factorized_top_k/top_50_categorical_accuracy: 0.2218 - factorized_top_k/top_100_categorical_accuracy: 0.2837 - loss: 41734.1151 - regularization_loss: 0.0000e+00 - total_loss: 41734.1151\n",
      "Epoch 12/20\n",
      "10/10 [==============================] - 42s 4s/step - factorized_top_k/top_1_categorical_accuracy: 0.1021 - factorized_top_k/top_5_categorical_accuracy: 0.1163 - factorized_top_k/top_10_categorical_accuracy: 0.1372 - factorized_top_k/top_50_categorical_accuracy: 0.2285 - factorized_top_k/top_100_categorical_accuracy: 0.2909 - loss: 41306.7653 - regularization_loss: 0.0000e+00 - total_loss: 41306.7653\n",
      "Epoch 13/20\n",
      "10/10 [==============================] - 42s 4s/step - factorized_top_k/top_1_categorical_accuracy: 0.1023 - factorized_top_k/top_5_categorical_accuracy: 0.1188 - factorized_top_k/top_10_categorical_accuracy: 0.1408 - factorized_top_k/top_50_categorical_accuracy: 0.2341 - factorized_top_k/top_100_categorical_accuracy: 0.2967 - loss: 40945.6420 - regularization_loss: 0.0000e+00 - total_loss: 40945.6420\n",
      "Epoch 14/20\n",
      "10/10 [==============================] - 42s 4s/step - factorized_top_k/top_1_categorical_accuracy: 0.1027 - factorized_top_k/top_5_categorical_accuracy: 0.1215 - factorized_top_k/top_10_categorical_accuracy: 0.1450 - factorized_top_k/top_50_categorical_accuracy: 0.2397 - factorized_top_k/top_100_categorical_accuracy: 0.3020 - loss: 40636.5245 - regularization_loss: 0.0000e+00 - total_loss: 40636.5245\n",
      "Epoch 15/20\n",
      "10/10 [==============================] - 42s 4s/step - factorized_top_k/top_1_categorical_accuracy: 0.1028 - factorized_top_k/top_5_categorical_accuracy: 0.1245 - factorized_top_k/top_10_categorical_accuracy: 0.1485 - factorized_top_k/top_50_categorical_accuracy: 0.2439 - factorized_top_k/top_100_categorical_accuracy: 0.3054 - loss: 40368.9489 - regularization_loss: 0.0000e+00 - total_loss: 40368.9489\n",
      "Epoch 16/20\n",
      "10/10 [==============================] - 43s 4s/step - factorized_top_k/top_1_categorical_accuracy: 0.1024 - factorized_top_k/top_5_categorical_accuracy: 0.1273 - factorized_top_k/top_10_categorical_accuracy: 0.1524 - factorized_top_k/top_50_categorical_accuracy: 0.2477 - factorized_top_k/top_100_categorical_accuracy: 0.3087 - loss: 40137.0085 - regularization_loss: 0.0000e+00 - total_loss: 40137.0085\n",
      "Epoch 17/20\n",
      "10/10 [==============================] - 42s 4s/step - factorized_top_k/top_1_categorical_accuracy: 0.1027 - factorized_top_k/top_5_categorical_accuracy: 0.1300 - factorized_top_k/top_10_categorical_accuracy: 0.1554 - factorized_top_k/top_50_categorical_accuracy: 0.2509 - factorized_top_k/top_100_categorical_accuracy: 0.3121 - loss: 39933.5405 - regularization_loss: 0.0000e+00 - total_loss: 39933.5405\n",
      "Epoch 18/20\n",
      "10/10 [==============================] - 43s 4s/step - factorized_top_k/top_1_categorical_accuracy: 0.1022 - factorized_top_k/top_5_categorical_accuracy: 0.1319 - factorized_top_k/top_10_categorical_accuracy: 0.1575 - factorized_top_k/top_50_categorical_accuracy: 0.2530 - factorized_top_k/top_100_categorical_accuracy: 0.3144 - loss: 39754.7969 - regularization_loss: 0.0000e+00 - total_loss: 39754.7969\n",
      "Epoch 19/20\n",
      "10/10 [==============================] - 42s 4s/step - factorized_top_k/top_1_categorical_accuracy: 0.1019 - factorized_top_k/top_5_categorical_accuracy: 0.1337 - factorized_top_k/top_10_categorical_accuracy: 0.1598 - factorized_top_k/top_50_categorical_accuracy: 0.2551 - factorized_top_k/top_100_categorical_accuracy: 0.3165 - loss: 39597.2940 - regularization_loss: 0.0000e+00 - total_loss: 39597.2940\n",
      "Epoch 20/20\n",
      "10/10 [==============================] - 42s 4s/step - factorized_top_k/top_1_categorical_accuracy: 0.1008 - factorized_top_k/top_5_categorical_accuracy: 0.1345 - factorized_top_k/top_10_categorical_accuracy: 0.1605 - factorized_top_k/top_50_categorical_accuracy: 0.2562 - factorized_top_k/top_100_categorical_accuracy: 0.3180 - loss: 39457.6811 - regularization_loss: 0.0000e+00 - total_loss: 39457.6811\n"
     ]
    },
    {
     "data": {
      "text/plain": [
       "<keras.callbacks.History at 0x2d09776a0>"
      ]
     },
     "execution_count": 9,
     "metadata": {},
     "output_type": "execute_result"
    }
   ],
   "source": [
    "model = DeezerRecModel(user_model, song_model)\n",
    "model.compile(optimizer=tf.keras.optimizers.Adagrad(learning_rate=0.1))\n",
    "cached_train = train.shuffle(100_000).batch(8192).cache()\n",
    "cached_test = test.batch(4096).cache()\n",
    "model.fit(cached_train, epochs=20)"
   ]
  },
  {
   "cell_type": "code",
   "execution_count": 10,
   "metadata": {},
   "outputs": [
    {
     "name": "stdout",
     "output_type": "stream",
     "text": [
      "1/1 [==============================] - 3s 3s/step - factorized_top_k/top_1_categorical_accuracy: 0.1135 - factorized_top_k/top_5_categorical_accuracy: 0.1270 - factorized_top_k/top_10_categorical_accuracy: 0.1465 - factorized_top_k/top_50_categorical_accuracy: 0.2020 - factorized_top_k/top_100_categorical_accuracy: 0.2360 - loss: 11889.4795 - regularization_loss: 0.0000e+00 - total_loss: 11889.4795\n"
     ]
    },
    {
     "data": {
      "text/plain": [
       "{'factorized_top_k/top_1_categorical_accuracy': 0.11349999904632568,\n",
       " 'factorized_top_k/top_5_categorical_accuracy': 0.12700000405311584,\n",
       " 'factorized_top_k/top_10_categorical_accuracy': 0.14650000631809235,\n",
       " 'factorized_top_k/top_50_categorical_accuracy': 0.20200000703334808,\n",
       " 'factorized_top_k/top_100_categorical_accuracy': 0.23600000143051147,\n",
       " 'loss': 11889.4794921875,\n",
       " 'regularization_loss': 0,\n",
       " 'total_loss': 11889.4794921875}"
      ]
     },
     "execution_count": 10,
     "metadata": {},
     "output_type": "execute_result"
    }
   ],
   "source": [
    "model.evaluate(cached_test, return_dict=True)"
   ]
  },
  {
   "cell_type": "code",
   "execution_count": 11,
   "metadata": {},
   "outputs": [
    {
     "name": "stdout",
     "output_type": "stream",
     "text": [
      "Song id Recommendations for user: [b'14747630' b'14747630' b'14747630']\n"
     ]
    }
   ],
   "source": [
    "index = tfrs.layers.factorized_top_k.BruteForce(model.user_model)\n",
    "index.index_from_dataset(\n",
    "  tf.data.Dataset.zip((songs.batch(1000), songs.batch(1000).map(model.song_model)))\n",
    ")\n",
    "\n",
    "_, titles = index(tf.constant([\"1387\"]))\n",
    "print(f\"Song id Recommendations for user: {titles[0, :3]}\")"
   ]
  },
  {
   "cell_type": "code",
   "execution_count": null,
   "metadata": {},
   "outputs": [],
   "source": []
  }
 ],
 "metadata": {
  "kernelspec": {
   "display_name": "deezer_recommendation-LXH-S8nB",
   "language": "python",
   "name": "python3"
  },
  "language_info": {
   "codemirror_mode": {
    "name": "ipython",
    "version": 3
   },
   "file_extension": ".py",
   "mimetype": "text/x-python",
   "name": "python",
   "nbconvert_exporter": "python",
   "pygments_lexer": "ipython3",
   "version": "3.10.9"
  },
  "orig_nbformat": 4,
  "vscode": {
   "interpreter": {
    "hash": "7a25f741d35dae877df10624e2b896bc7b21e32390eb0ff94c7989a0b15a6df6"
   }
  }
 },
 "nbformat": 4,
 "nbformat_minor": 2
}
