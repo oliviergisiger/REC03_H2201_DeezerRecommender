{
 "cells": [
  {
   "attachments": {},
   "cell_type": "markdown",
   "metadata": {},
   "source": [
    "# Model Build\n",
    "\n",
    " \n"
   ]
  },
  {
   "cell_type": "code",
   "execution_count": 10,
   "metadata": {},
   "outputs": [],
   "source": [
    "import numpy as np\n",
    "import pandas as pd\n",
    "import time\n",
    "\n",
    "import tensorflow as tf\n",
    "import tensorflow_recommenders as tfrs\n",
    "import tensorflow_datasets as tfds\n",
    "import matplotlib.pyplot as plt\n",
    "\n",
    "from numpy import count_nonzero\n",
    "\n",
    "from typing import Dict, Text"
   ]
  },
  {
   "cell_type": "code",
   "execution_count": 11,
   "metadata": {},
   "outputs": [],
   "source": [
    "train_df = pd.read_csv('../data/train.csv')\n",
    "test_df = pd.read_csv('../data/test.csv')"
   ]
  },
  {
   "cell_type": "code",
   "execution_count": 12,
   "metadata": {},
   "outputs": [
    {
     "name": "stderr",
     "output_type": "stream",
     "text": [
      "/var/folders/48/hls1bn594jv01b8czjn52sp80000gn/T/ipykernel_36244/40870951.py:8: SettingWithCopyWarning: \n",
      "A value is trying to be set on a copy of a slice from a DataFrame.\n",
      "Try using .loc[row_indexer,col_indexer] = value instead\n",
      "\n",
      "See the caveats in the documentation: https://pandas.pydata.org/pandas-docs/stable/user_guide/indexing.html#returning-a-view-versus-a-copy\n",
      "  train_listened_small[['user_id', 'media_id']] = train_listened_small[['user_id', 'media_id']].astype(str)\n"
     ]
    }
   ],
   "source": [
    "# filter for is listened == 1\n",
    "\n",
    "train_listened = train_df[train_df['is_listened'] == 1]\n",
    "train_listened.reset_index(inplace=True, drop=True)\n",
    "\n",
    "# only first 100'000 records\n",
    "train_listened_small = train_listened.loc[:99999]\n",
    "train_listened_small[['user_id', 'media_id']] = train_listened_small[['user_id', 'media_id']].astype(str)\n"
   ]
  },
  {
   "cell_type": "code",
   "execution_count": 13,
   "metadata": {},
   "outputs": [
    {
     "name": "stdout",
     "output_type": "stream",
     "text": [
      "<MapDataset element_spec={'user_id': TensorSpec(shape=(), dtype=tf.string, name=None), 'is_listened': TensorSpec(shape=(), dtype=tf.int64, name=None), 'media_id': TensorSpec(shape=(), dtype=tf.string, name=None), 'timestamp': TensorSpec(shape=(), dtype=tf.int64, name=None)}>\n"
     ]
    }
   ],
   "source": [
    "# convert to tfds datset\n",
    "\n",
    "deezer_ratings = tf.data.Dataset.from_tensor_slices(dict(train_listened_small)).\\\n",
    "    map(lambda x: {\n",
    "    'user_id': x['user_id'], \n",
    "    'is_listened': x['is_listened'], \n",
    "    'media_id': x['media_id'], \n",
    "    'timestamp': x['ts_listen']})\n",
    "\n",
    "# get sample for overview\n",
    "# for x in deezer_ratings.take(5).as_numpy_iterator():\n",
    "#   print(x)\n",
    "\n",
    "# assert correct object type\n",
    "print(deezer_ratings)"
   ]
  },
  {
   "cell_type": "code",
   "execution_count": 14,
   "metadata": {},
   "outputs": [],
   "source": [
    "tf.random.set_seed(42)\n",
    "shuffled = deezer_ratings.shuffle(100_000, seed=42, reshuffle_each_iteration=False)\n",
    "\n",
    "train = shuffled.take(80_000)\n",
    "test = shuffled.skip(80_000).take(2_000)"
   ]
  },
  {
   "cell_type": "code",
   "execution_count": 15,
   "metadata": {},
   "outputs": [],
   "source": [
    "songs = deezer_ratings.map(lambda x: x[\"media_id\"])\n",
    "user = deezer_ratings.map(lambda x: x[\"user_id\"])\n",
    "\n",
    "song_ids = deezer_ratings.batch(1_000_000).map(lambda x: x[\"media_id\"])\n",
    "user_ids = deezer_ratings.batch(1_000_000).map(lambda x: x[\"user_id\"])\n",
    "\n",
    "unique_song_ids = np.unique(np.concatenate(list(song_ids)))\n",
    "unique_user_ids = np.unique(np.concatenate(list(user_ids)))\n"
   ]
  },
  {
   "cell_type": "code",
   "execution_count": 16,
   "metadata": {},
   "outputs": [],
   "source": [
    "# define user and item models\n",
    "\n",
    "embedding_dimension = 32\n",
    "\n",
    "# Compute embeddings for users.\n",
    "user_model = tf.keras.Sequential([\n",
    "    tf.keras.layers.StringLookup(\n",
    "    vocabulary=unique_user_ids, mask_token=None),\n",
    "    tf.keras.layers.Embedding(len(unique_user_ids) + 1, embedding_dimension)\n",
    "])\n",
    "\n",
    "# Compute embeddings for movies.\n",
    "song_model = tf.keras.Sequential([\n",
    "    tf.keras.layers.StringLookup(\n",
    "    vocabulary=unique_song_ids, mask_token=None),\n",
    "    tf.keras.layers.Embedding(len(unique_song_ids) + 1, embedding_dimension)\n",
    "])\n",
    "\n",
    "# get top k recommendations\n",
    "metrics = tfrs.metrics.FactorizedTopK(\n",
    "  candidates=song_ids.map(song_model)\n",
    ")\n",
    "task = tfrs.tasks.Retrieval(\n",
    "  metrics=metrics\n",
    ")"
   ]
  },
  {
   "cell_type": "code",
   "execution_count": 17,
   "metadata": {},
   "outputs": [],
   "source": [
    "class DeezerRecModel(tfrs.Model):\n",
    "\n",
    "  def __init__(self, user_model, song_model):\n",
    "    super().__init__()\n",
    "    self.song_model = tf.keras.Model = song_model\n",
    "    self.user_model: tf.keras.Model = user_model\n",
    "\n",
    "    self.task: tf.keras.layers.Layer = task\n",
    "\n",
    "  def compute_loss(self, features: Dict[Text, tf.Tensor], training=False) -> tf.Tensor:\n",
    "    user_embeddings = self.user_model(features[\"user_id\"])\n",
    "    positive_song_embeddings = self.song_model(features[\"media_id\"])\n",
    "    return self.task(user_embeddings, positive_song_embeddings)"
   ]
  },
  {
   "cell_type": "code",
   "execution_count": 18,
   "metadata": {},
   "outputs": [
    {
     "name": "stdout",
     "output_type": "stream",
     "text": [
      "Epoch 1/100\n",
      "10/10 [==============================] - 43s 4s/step - factorized_top_k/top_1_categorical_accuracy: 0.0010 - factorized_top_k/top_5_categorical_accuracy: 0.0010 - factorized_top_k/top_10_categorical_accuracy: 0.0010 - factorized_top_k/top_50_categorical_accuracy: 0.0032 - factorized_top_k/top_100_categorical_accuracy: 0.0071 - loss: 67268.0554 - regularization_loss: 0.0000e+00 - total_loss: 67268.0554      \n",
      "Epoch 2/100\n",
      "10/10 [==============================] - 43s 4s/step - factorized_top_k/top_1_categorical_accuracy: 0.0230 - factorized_top_k/top_5_categorical_accuracy: 0.0230 - factorized_top_k/top_10_categorical_accuracy: 0.0231 - factorized_top_k/top_50_categorical_accuracy: 0.0367 - factorized_top_k/top_100_categorical_accuracy: 0.0542 - loss: 57950.4680 - regularization_loss: 0.0000e+00 - total_loss: 57950.4680\n",
      "Epoch 3/100\n",
      "10/10 [==============================] - 43s 4s/step - factorized_top_k/top_1_categorical_accuracy: 0.0503 - factorized_top_k/top_5_categorical_accuracy: 0.0505 - factorized_top_k/top_10_categorical_accuracy: 0.0523 - factorized_top_k/top_50_categorical_accuracy: 0.0804 - factorized_top_k/top_100_categorical_accuracy: 0.1147 - loss: 52566.8746 - regularization_loss: 0.0000e+00 - total_loss: 52566.8746\n",
      "Epoch 4/100\n",
      "10/10 [==============================] - 43s 4s/step - factorized_top_k/top_1_categorical_accuracy: 0.0688 - factorized_top_k/top_5_categorical_accuracy: 0.0694 - factorized_top_k/top_10_categorical_accuracy: 0.0739 - factorized_top_k/top_50_categorical_accuracy: 0.1173 - factorized_top_k/top_100_categorical_accuracy: 0.1598 - loss: 49382.9918 - regularization_loss: 0.0000e+00 - total_loss: 49382.9918\n",
      "Epoch 5/100\n",
      "10/10 [==============================] - 43s 4s/step - factorized_top_k/top_1_categorical_accuracy: 0.0814 - factorized_top_k/top_5_categorical_accuracy: 0.0834 - factorized_top_k/top_10_categorical_accuracy: 0.0910 - factorized_top_k/top_50_categorical_accuracy: 0.1448 - factorized_top_k/top_100_categorical_accuracy: 0.1927 - loss: 47243.2578 - regularization_loss: 0.0000e+00 - total_loss: 47243.2578\n",
      "Epoch 6/100\n",
      "10/10 [==============================] - 44s 4s/step - factorized_top_k/top_1_categorical_accuracy: 0.0911 - factorized_top_k/top_5_categorical_accuracy: 0.0946 - factorized_top_k/top_10_categorical_accuracy: 0.1047 - factorized_top_k/top_50_categorical_accuracy: 0.1663 - factorized_top_k/top_100_categorical_accuracy: 0.2185 - loss: 45697.3015 - regularization_loss: 0.0000e+00 - total_loss: 45697.3015\n",
      "Epoch 7/100\n",
      "10/10 [==============================] - 44s 4s/step - factorized_top_k/top_1_categorical_accuracy: 0.0960 - factorized_top_k/top_5_categorical_accuracy: 0.1012 - factorized_top_k/top_10_categorical_accuracy: 0.1139 - factorized_top_k/top_50_categorical_accuracy: 0.1818 - factorized_top_k/top_100_categorical_accuracy: 0.2373 - loss: 44516.0724 - regularization_loss: 0.0000e+00 - total_loss: 44516.0724\n",
      "Epoch 8/100\n",
      "10/10 [==============================] - 44s 4s/step - factorized_top_k/top_1_categorical_accuracy: 0.0999 - factorized_top_k/top_5_categorical_accuracy: 0.1067 - factorized_top_k/top_10_categorical_accuracy: 0.1209 - factorized_top_k/top_50_categorical_accuracy: 0.1962 - factorized_top_k/top_100_categorical_accuracy: 0.2546 - loss: 43584.9755 - regularization_loss: 0.0000e+00 - total_loss: 43584.9755\n",
      "Epoch 9/100\n",
      "10/10 [==============================] - 43s 4s/step - factorized_top_k/top_1_categorical_accuracy: 0.1028 - factorized_top_k/top_5_categorical_accuracy: 0.1124 - factorized_top_k/top_10_categorical_accuracy: 0.1275 - factorized_top_k/top_50_categorical_accuracy: 0.2089 - factorized_top_k/top_100_categorical_accuracy: 0.2686 - loss: 42831.7443 - regularization_loss: 0.0000e+00 - total_loss: 42831.7443\n",
      "Epoch 10/100\n",
      "10/10 [==============================] - 43s 4s/step - factorized_top_k/top_1_categorical_accuracy: 0.1034 - factorized_top_k/top_5_categorical_accuracy: 0.1146 - factorized_top_k/top_10_categorical_accuracy: 0.1321 - factorized_top_k/top_50_categorical_accuracy: 0.2178 - factorized_top_k/top_100_categorical_accuracy: 0.2779 - loss: 42213.9482 - regularization_loss: 0.0000e+00 - total_loss: 42213.9482\n",
      "Epoch 11/100\n",
      "10/10 [==============================] - 43s 4s/step - factorized_top_k/top_1_categorical_accuracy: 0.1039 - factorized_top_k/top_5_categorical_accuracy: 0.1169 - factorized_top_k/top_10_categorical_accuracy: 0.1364 - factorized_top_k/top_50_categorical_accuracy: 0.2240 - factorized_top_k/top_100_categorical_accuracy: 0.2846 - loss: 41704.0032 - regularization_loss: 0.0000e+00 - total_loss: 41704.0032\n",
      "Epoch 12/100\n",
      "10/10 [==============================] - 44s 4s/step - factorized_top_k/top_1_categorical_accuracy: 0.1043 - factorized_top_k/top_5_categorical_accuracy: 0.1192 - factorized_top_k/top_10_categorical_accuracy: 0.1400 - factorized_top_k/top_50_categorical_accuracy: 0.2302 - factorized_top_k/top_100_categorical_accuracy: 0.2918 - loss: 41279.5114 - regularization_loss: 0.0000e+00 - total_loss: 41279.5114\n",
      "Epoch 13/100\n",
      "10/10 [==============================] - 44s 4s/step - factorized_top_k/top_1_categorical_accuracy: 0.1048 - factorized_top_k/top_5_categorical_accuracy: 0.1213 - factorized_top_k/top_10_categorical_accuracy: 0.1434 - factorized_top_k/top_50_categorical_accuracy: 0.2365 - factorized_top_k/top_100_categorical_accuracy: 0.2984 - loss: 40920.6868 - regularization_loss: 0.0000e+00 - total_loss: 40920.6868\n",
      "Epoch 14/100\n",
      "10/10 [==============================] - 43s 4s/step - factorized_top_k/top_1_categorical_accuracy: 0.1049 - factorized_top_k/top_5_categorical_accuracy: 0.1240 - factorized_top_k/top_10_categorical_accuracy: 0.1473 - factorized_top_k/top_50_categorical_accuracy: 0.2419 - factorized_top_k/top_100_categorical_accuracy: 0.3036 - loss: 40614.2330 - regularization_loss: 0.0000e+00 - total_loss: 40614.2330\n",
      "Epoch 15/100\n",
      "10/10 [==============================] - 43s 4s/step - factorized_top_k/top_1_categorical_accuracy: 0.1051 - factorized_top_k/top_5_categorical_accuracy: 0.1265 - factorized_top_k/top_10_categorical_accuracy: 0.1512 - factorized_top_k/top_50_categorical_accuracy: 0.2456 - factorized_top_k/top_100_categorical_accuracy: 0.3077 - loss: 40348.2344 - regularization_loss: 0.0000e+00 - total_loss: 40348.2344\n",
      "Epoch 16/100\n",
      "10/10 [==============================] - 43s 4s/step - factorized_top_k/top_1_categorical_accuracy: 0.1040 - factorized_top_k/top_5_categorical_accuracy: 0.1285 - factorized_top_k/top_10_categorical_accuracy: 0.1538 - factorized_top_k/top_50_categorical_accuracy: 0.2484 - factorized_top_k/top_100_categorical_accuracy: 0.3106 - loss: 40117.2351 - regularization_loss: 0.0000e+00 - total_loss: 40117.2351\n",
      "Epoch 17/100\n",
      "10/10 [==============================] - 43s 4s/step - factorized_top_k/top_1_categorical_accuracy: 0.1044 - factorized_top_k/top_5_categorical_accuracy: 0.1316 - factorized_top_k/top_10_categorical_accuracy: 0.1568 - factorized_top_k/top_50_categorical_accuracy: 0.2514 - factorized_top_k/top_100_categorical_accuracy: 0.3138 - loss: 39915.0028 - regularization_loss: 0.0000e+00 - total_loss: 39915.0028\n",
      "Epoch 18/100\n",
      "10/10 [==============================] - 43s 4s/step - factorized_top_k/top_1_categorical_accuracy: 0.1037 - factorized_top_k/top_5_categorical_accuracy: 0.1331 - factorized_top_k/top_10_categorical_accuracy: 0.1585 - factorized_top_k/top_50_categorical_accuracy: 0.2536 - factorized_top_k/top_100_categorical_accuracy: 0.3163 - loss: 39737.4087 - regularization_loss: 0.0000e+00 - total_loss: 39737.4087\n",
      "Epoch 19/100\n",
      "10/10 [==============================] - 43s 4s/step - factorized_top_k/top_1_categorical_accuracy: 0.1033 - factorized_top_k/top_5_categorical_accuracy: 0.1346 - factorized_top_k/top_10_categorical_accuracy: 0.1605 - factorized_top_k/top_50_categorical_accuracy: 0.2558 - factorized_top_k/top_100_categorical_accuracy: 0.3185 - loss: 39580.8189 - regularization_loss: 0.0000e+00 - total_loss: 39580.8189\n",
      "Epoch 20/100\n",
      "10/10 [==============================] - 43s 4s/step - factorized_top_k/top_1_categorical_accuracy: 0.1028 - factorized_top_k/top_5_categorical_accuracy: 0.1357 - factorized_top_k/top_10_categorical_accuracy: 0.1614 - factorized_top_k/top_50_categorical_accuracy: 0.2570 - factorized_top_k/top_100_categorical_accuracy: 0.3200 - loss: 39442.6175 - regularization_loss: 0.0000e+00 - total_loss: 39442.6175\n",
      "Epoch 21/100\n",
      "10/10 [==============================] - 44s 4s/step - factorized_top_k/top_1_categorical_accuracy: 0.1026 - factorized_top_k/top_5_categorical_accuracy: 0.1370 - factorized_top_k/top_10_categorical_accuracy: 0.1626 - factorized_top_k/top_50_categorical_accuracy: 0.2582 - factorized_top_k/top_100_categorical_accuracy: 0.3213 - loss: 39320.2294 - regularization_loss: 0.0000e+00 - total_loss: 39320.2294\n",
      "Epoch 22/100\n",
      "10/10 [==============================] - 44s 4s/step - factorized_top_k/top_1_categorical_accuracy: 0.1020 - factorized_top_k/top_5_categorical_accuracy: 0.1377 - factorized_top_k/top_10_categorical_accuracy: 0.1634 - factorized_top_k/top_50_categorical_accuracy: 0.2594 - factorized_top_k/top_100_categorical_accuracy: 0.3223 - loss: 39211.1566 - regularization_loss: 0.0000e+00 - total_loss: 39211.1566\n",
      "Epoch 23/100\n",
      "10/10 [==============================] - 43s 4s/step - factorized_top_k/top_1_categorical_accuracy: 0.1013 - factorized_top_k/top_5_categorical_accuracy: 0.1381 - factorized_top_k/top_10_categorical_accuracy: 0.1640 - factorized_top_k/top_50_categorical_accuracy: 0.2601 - factorized_top_k/top_100_categorical_accuracy: 0.3229 - loss: 39113.6868 - regularization_loss: 0.0000e+00 - total_loss: 39113.6868\n",
      "Epoch 24/100\n",
      "10/10 [==============================] - 43s 4s/step - factorized_top_k/top_1_categorical_accuracy: 0.1011 - factorized_top_k/top_5_categorical_accuracy: 0.1391 - factorized_top_k/top_10_categorical_accuracy: 0.1648 - factorized_top_k/top_50_categorical_accuracy: 0.2609 - factorized_top_k/top_100_categorical_accuracy: 0.3238 - loss: 39026.1239 - regularization_loss: 0.0000e+00 - total_loss: 39026.1239\n",
      "Epoch 25/100\n",
      "10/10 [==============================] - 43s 4s/step - factorized_top_k/top_1_categorical_accuracy: 0.1006 - factorized_top_k/top_5_categorical_accuracy: 0.1398 - factorized_top_k/top_10_categorical_accuracy: 0.1655 - factorized_top_k/top_50_categorical_accuracy: 0.2616 - factorized_top_k/top_100_categorical_accuracy: 0.3244 - loss: 38947.3054 - regularization_loss: 0.0000e+00 - total_loss: 38947.3054\n",
      "Epoch 26/100\n",
      "10/10 [==============================] - 44s 4s/step - factorized_top_k/top_1_categorical_accuracy: 0.1010 - factorized_top_k/top_5_categorical_accuracy: 0.1403 - factorized_top_k/top_10_categorical_accuracy: 0.1660 - factorized_top_k/top_50_categorical_accuracy: 0.2623 - factorized_top_k/top_100_categorical_accuracy: 0.3253 - loss: 38875.7340 - regularization_loss: 0.0000e+00 - total_loss: 38875.7340\n",
      "Epoch 27/100\n",
      "10/10 [==============================] - 44s 4s/step - factorized_top_k/top_1_categorical_accuracy: 0.1010 - factorized_top_k/top_5_categorical_accuracy: 0.1408 - factorized_top_k/top_10_categorical_accuracy: 0.1666 - factorized_top_k/top_50_categorical_accuracy: 0.2629 - factorized_top_k/top_100_categorical_accuracy: 0.3260 - loss: 38810.5238 - regularization_loss: 0.0000e+00 - total_loss: 38810.5238\n",
      "Epoch 28/100\n",
      "10/10 [==============================] - 43s 4s/step - factorized_top_k/top_1_categorical_accuracy: 0.1010 - factorized_top_k/top_5_categorical_accuracy: 0.1411 - factorized_top_k/top_10_categorical_accuracy: 0.1670 - factorized_top_k/top_50_categorical_accuracy: 0.2634 - factorized_top_k/top_100_categorical_accuracy: 0.3265 - loss: 38750.5156 - regularization_loss: 0.0000e+00 - total_loss: 38750.5156\n",
      "Epoch 29/100\n",
      "10/10 [==============================] - 43s 4s/step - factorized_top_k/top_1_categorical_accuracy: 0.1012 - factorized_top_k/top_5_categorical_accuracy: 0.1413 - factorized_top_k/top_10_categorical_accuracy: 0.1671 - factorized_top_k/top_50_categorical_accuracy: 0.2637 - factorized_top_k/top_100_categorical_accuracy: 0.3268 - loss: 38695.5121 - regularization_loss: 0.0000e+00 - total_loss: 38695.5121\n",
      "Epoch 30/100\n",
      "10/10 [==============================] - 43s 4s/step - factorized_top_k/top_1_categorical_accuracy: 0.1014 - factorized_top_k/top_5_categorical_accuracy: 0.1417 - factorized_top_k/top_10_categorical_accuracy: 0.1676 - factorized_top_k/top_50_categorical_accuracy: 0.2642 - factorized_top_k/top_100_categorical_accuracy: 0.3275 - loss: 38644.6761 - regularization_loss: 0.0000e+00 - total_loss: 38644.6761\n",
      "Epoch 31/100\n",
      "10/10 [==============================] - 43s 4s/step - factorized_top_k/top_1_categorical_accuracy: 0.1013 - factorized_top_k/top_5_categorical_accuracy: 0.1418 - factorized_top_k/top_10_categorical_accuracy: 0.1677 - factorized_top_k/top_50_categorical_accuracy: 0.2645 - factorized_top_k/top_100_categorical_accuracy: 0.3279 - loss: 38597.8416 - regularization_loss: 0.0000e+00 - total_loss: 38597.8416\n",
      "Epoch 32/100\n",
      "10/10 [==============================] - 43s 4s/step - factorized_top_k/top_1_categorical_accuracy: 0.1016 - factorized_top_k/top_5_categorical_accuracy: 0.1421 - factorized_top_k/top_10_categorical_accuracy: 0.1683 - factorized_top_k/top_50_categorical_accuracy: 0.2651 - factorized_top_k/top_100_categorical_accuracy: 0.3285 - loss: 38554.3970 - regularization_loss: 0.0000e+00 - total_loss: 38554.3970\n",
      "Epoch 33/100\n",
      "10/10 [==============================] - 43s 4s/step - factorized_top_k/top_1_categorical_accuracy: 0.1017 - factorized_top_k/top_5_categorical_accuracy: 0.1423 - factorized_top_k/top_10_categorical_accuracy: 0.1683 - factorized_top_k/top_50_categorical_accuracy: 0.2653 - factorized_top_k/top_100_categorical_accuracy: 0.3289 - loss: 38514.1367 - regularization_loss: 0.0000e+00 - total_loss: 38514.1367\n",
      "Epoch 34/100\n",
      "10/10 [==============================] - 43s 4s/step - factorized_top_k/top_1_categorical_accuracy: 0.1019 - factorized_top_k/top_5_categorical_accuracy: 0.1426 - factorized_top_k/top_10_categorical_accuracy: 0.1689 - factorized_top_k/top_50_categorical_accuracy: 0.2662 - factorized_top_k/top_100_categorical_accuracy: 0.3296 - loss: 38476.5859 - regularization_loss: 0.0000e+00 - total_loss: 38476.5859\n",
      "Epoch 35/100\n",
      "10/10 [==============================] - 44s 4s/step - factorized_top_k/top_1_categorical_accuracy: 0.1018 - factorized_top_k/top_5_categorical_accuracy: 0.1427 - factorized_top_k/top_10_categorical_accuracy: 0.1688 - factorized_top_k/top_50_categorical_accuracy: 0.2662 - factorized_top_k/top_100_categorical_accuracy: 0.3297 - loss: 38441.4215 - regularization_loss: 0.0000e+00 - total_loss: 38441.4215\n",
      "Epoch 36/100\n",
      "10/10 [==============================] - 43s 4s/step - factorized_top_k/top_1_categorical_accuracy: 0.1021 - factorized_top_k/top_5_categorical_accuracy: 0.1430 - factorized_top_k/top_10_categorical_accuracy: 0.1692 - factorized_top_k/top_50_categorical_accuracy: 0.2668 - factorized_top_k/top_100_categorical_accuracy: 0.3304 - loss: 38408.4297 - regularization_loss: 0.0000e+00 - total_loss: 38408.4297\n",
      "Epoch 37/100\n",
      "10/10 [==============================] - 43s 4s/step - factorized_top_k/top_1_categorical_accuracy: 0.1020 - factorized_top_k/top_5_categorical_accuracy: 0.1430 - factorized_top_k/top_10_categorical_accuracy: 0.1693 - factorized_top_k/top_50_categorical_accuracy: 0.2669 - factorized_top_k/top_100_categorical_accuracy: 0.3305 - loss: 38377.3203 - regularization_loss: 0.0000e+00 - total_loss: 38377.3203\n",
      "Epoch 38/100\n",
      "10/10 [==============================] - 43s 4s/step - factorized_top_k/top_1_categorical_accuracy: 0.1024 - factorized_top_k/top_5_categorical_accuracy: 0.1433 - factorized_top_k/top_10_categorical_accuracy: 0.1697 - factorized_top_k/top_50_categorical_accuracy: 0.2678 - factorized_top_k/top_100_categorical_accuracy: 0.3313 - loss: 38348.0472 - regularization_loss: 0.0000e+00 - total_loss: 38348.0472\n",
      "Epoch 39/100\n",
      "10/10 [==============================] - 43s 4s/step - factorized_top_k/top_1_categorical_accuracy: 0.1024 - factorized_top_k/top_5_categorical_accuracy: 0.1436 - factorized_top_k/top_10_categorical_accuracy: 0.1699 - factorized_top_k/top_50_categorical_accuracy: 0.2678 - factorized_top_k/top_100_categorical_accuracy: 0.3312 - loss: 38320.4464 - regularization_loss: 0.0000e+00 - total_loss: 38320.4464\n",
      "Epoch 40/100\n",
      "10/10 [==============================] - 44s 4s/step - factorized_top_k/top_1_categorical_accuracy: 0.1027 - factorized_top_k/top_5_categorical_accuracy: 0.1435 - factorized_top_k/top_10_categorical_accuracy: 0.1699 - factorized_top_k/top_50_categorical_accuracy: 0.2682 - factorized_top_k/top_100_categorical_accuracy: 0.3317 - loss: 38294.2653 - regularization_loss: 0.0000e+00 - total_loss: 38294.2653\n",
      "Epoch 41/100\n",
      "10/10 [==============================] - 43s 4s/step - factorized_top_k/top_1_categorical_accuracy: 0.1028 - factorized_top_k/top_5_categorical_accuracy: 0.1437 - factorized_top_k/top_10_categorical_accuracy: 0.1699 - factorized_top_k/top_50_categorical_accuracy: 0.2683 - factorized_top_k/top_100_categorical_accuracy: 0.3317 - loss: 38269.4698 - regularization_loss: 0.0000e+00 - total_loss: 38269.4698\n",
      "Epoch 42/100\n",
      "10/10 [==============================] - 43s 4s/step - factorized_top_k/top_1_categorical_accuracy: 0.1030 - factorized_top_k/top_5_categorical_accuracy: 0.1441 - factorized_top_k/top_10_categorical_accuracy: 0.1703 - factorized_top_k/top_50_categorical_accuracy: 0.2688 - factorized_top_k/top_100_categorical_accuracy: 0.3322 - loss: 38245.9318 - regularization_loss: 0.0000e+00 - total_loss: 38245.9318\n",
      "Epoch 43/100\n",
      "10/10 [==============================] - 43s 4s/step - factorized_top_k/top_1_categorical_accuracy: 0.1031 - factorized_top_k/top_5_categorical_accuracy: 0.1443 - factorized_top_k/top_10_categorical_accuracy: 0.1703 - factorized_top_k/top_50_categorical_accuracy: 0.2691 - factorized_top_k/top_100_categorical_accuracy: 0.3322 - loss: 38223.5866 - regularization_loss: 0.0000e+00 - total_loss: 38223.5866\n",
      "Epoch 44/100\n",
      "10/10 [==============================] - 43s 4s/step - factorized_top_k/top_1_categorical_accuracy: 0.1033 - factorized_top_k/top_5_categorical_accuracy: 0.1444 - factorized_top_k/top_10_categorical_accuracy: 0.1706 - factorized_top_k/top_50_categorical_accuracy: 0.2692 - factorized_top_k/top_100_categorical_accuracy: 0.3327 - loss: 38202.3228 - regularization_loss: 0.0000e+00 - total_loss: 38202.3228\n",
      "Epoch 45/100\n",
      "10/10 [==============================] - 44s 4s/step - factorized_top_k/top_1_categorical_accuracy: 0.1032 - factorized_top_k/top_5_categorical_accuracy: 0.1445 - factorized_top_k/top_10_categorical_accuracy: 0.1707 - factorized_top_k/top_50_categorical_accuracy: 0.2695 - factorized_top_k/top_100_categorical_accuracy: 0.3328 - loss: 38182.0518 - regularization_loss: 0.0000e+00 - total_loss: 38182.0518\n",
      "Epoch 46/100\n",
      "10/10 [==============================] - 43s 4s/step - factorized_top_k/top_1_categorical_accuracy: 0.1037 - factorized_top_k/top_5_categorical_accuracy: 0.1448 - factorized_top_k/top_10_categorical_accuracy: 0.1711 - factorized_top_k/top_50_categorical_accuracy: 0.2697 - factorized_top_k/top_100_categorical_accuracy: 0.3332 - loss: 38162.6634 - regularization_loss: 0.0000e+00 - total_loss: 38162.6634\n",
      "Epoch 47/100\n",
      "10/10 [==============================] - 43s 4s/step - factorized_top_k/top_1_categorical_accuracy: 0.1038 - factorized_top_k/top_5_categorical_accuracy: 0.1451 - factorized_top_k/top_10_categorical_accuracy: 0.1712 - factorized_top_k/top_50_categorical_accuracy: 0.2700 - factorized_top_k/top_100_categorical_accuracy: 0.3332 - loss: 38144.0717 - regularization_loss: 0.0000e+00 - total_loss: 38144.0717\n",
      "Epoch 48/100\n",
      "10/10 [==============================] - 43s 4s/step - factorized_top_k/top_1_categorical_accuracy: 0.1041 - factorized_top_k/top_5_categorical_accuracy: 0.1452 - factorized_top_k/top_10_categorical_accuracy: 0.1715 - factorized_top_k/top_50_categorical_accuracy: 0.2704 - factorized_top_k/top_100_categorical_accuracy: 0.3338 - loss: 38126.2962 - regularization_loss: 0.0000e+00 - total_loss: 38126.2962\n",
      "Epoch 49/100\n",
      "10/10 [==============================] - 43s 4s/step - factorized_top_k/top_1_categorical_accuracy: 0.1039 - factorized_top_k/top_5_categorical_accuracy: 0.1452 - factorized_top_k/top_10_categorical_accuracy: 0.1715 - factorized_top_k/top_50_categorical_accuracy: 0.2703 - factorized_top_k/top_100_categorical_accuracy: 0.3338 - loss: 38109.2195 - regularization_loss: 0.0000e+00 - total_loss: 38109.2195\n",
      "Epoch 50/100\n",
      "10/10 [==============================] - 44s 4s/step - factorized_top_k/top_1_categorical_accuracy: 0.1041 - factorized_top_k/top_5_categorical_accuracy: 0.1454 - factorized_top_k/top_10_categorical_accuracy: 0.1717 - factorized_top_k/top_50_categorical_accuracy: 0.2709 - factorized_top_k/top_100_categorical_accuracy: 0.3344 - loss: 38092.8562 - regularization_loss: 0.0000e+00 - total_loss: 38092.8562\n",
      "Epoch 51/100\n",
      "10/10 [==============================] - 43s 4s/step - factorized_top_k/top_1_categorical_accuracy: 0.1042 - factorized_top_k/top_5_categorical_accuracy: 0.1456 - factorized_top_k/top_10_categorical_accuracy: 0.1719 - factorized_top_k/top_50_categorical_accuracy: 0.2711 - factorized_top_k/top_100_categorical_accuracy: 0.3346 - loss: 38077.1562 - regularization_loss: 0.0000e+00 - total_loss: 38077.1562\n",
      "Epoch 52/100\n",
      "10/10 [==============================] - 43s 4s/step - factorized_top_k/top_1_categorical_accuracy: 0.1045 - factorized_top_k/top_5_categorical_accuracy: 0.1457 - factorized_top_k/top_10_categorical_accuracy: 0.1721 - factorized_top_k/top_50_categorical_accuracy: 0.2715 - factorized_top_k/top_100_categorical_accuracy: 0.3350 - loss: 38062.0749 - regularization_loss: 0.0000e+00 - total_loss: 38062.0749\n",
      "Epoch 53/100\n",
      "10/10 [==============================] - 43s 4s/step - factorized_top_k/top_1_categorical_accuracy: 0.1045 - factorized_top_k/top_5_categorical_accuracy: 0.1460 - factorized_top_k/top_10_categorical_accuracy: 0.1722 - factorized_top_k/top_50_categorical_accuracy: 0.2718 - factorized_top_k/top_100_categorical_accuracy: 0.3353 - loss: 38047.5582 - regularization_loss: 0.0000e+00 - total_loss: 38047.5582\n",
      "Epoch 54/100\n",
      "10/10 [==============================] - 43s 4s/step - factorized_top_k/top_1_categorical_accuracy: 0.1047 - factorized_top_k/top_5_categorical_accuracy: 0.1460 - factorized_top_k/top_10_categorical_accuracy: 0.1722 - factorized_top_k/top_50_categorical_accuracy: 0.2719 - factorized_top_k/top_100_categorical_accuracy: 0.3356 - loss: 38033.5458 - regularization_loss: 0.0000e+00 - total_loss: 38033.5458\n",
      "Epoch 55/100\n",
      "10/10 [==============================] - 43s 4s/step - factorized_top_k/top_1_categorical_accuracy: 0.1051 - factorized_top_k/top_5_categorical_accuracy: 0.1466 - factorized_top_k/top_10_categorical_accuracy: 0.1729 - factorized_top_k/top_50_categorical_accuracy: 0.2723 - factorized_top_k/top_100_categorical_accuracy: 0.3361 - loss: 38020.0455 - regularization_loss: 0.0000e+00 - total_loss: 38020.0455\n",
      "Epoch 56/100\n",
      "10/10 [==============================] - 43s 4s/step - factorized_top_k/top_1_categorical_accuracy: 0.1050 - factorized_top_k/top_5_categorical_accuracy: 0.1465 - factorized_top_k/top_10_categorical_accuracy: 0.1726 - factorized_top_k/top_50_categorical_accuracy: 0.2721 - factorized_top_k/top_100_categorical_accuracy: 0.3361 - loss: 38006.9865 - regularization_loss: 0.0000e+00 - total_loss: 38006.9865\n",
      "Epoch 57/100\n",
      "10/10 [==============================] - 43s 4s/step - factorized_top_k/top_1_categorical_accuracy: 0.1051 - factorized_top_k/top_5_categorical_accuracy: 0.1467 - factorized_top_k/top_10_categorical_accuracy: 0.1730 - factorized_top_k/top_50_categorical_accuracy: 0.2725 - factorized_top_k/top_100_categorical_accuracy: 0.3364 - loss: 37994.3725 - regularization_loss: 0.0000e+00 - total_loss: 37994.3725\n",
      "Epoch 58/100\n",
      "10/10 [==============================] - 43s 4s/step - factorized_top_k/top_1_categorical_accuracy: 0.1052 - factorized_top_k/top_5_categorical_accuracy: 0.1467 - factorized_top_k/top_10_categorical_accuracy: 0.1729 - factorized_top_k/top_50_categorical_accuracy: 0.2724 - factorized_top_k/top_100_categorical_accuracy: 0.3365 - loss: 37982.1516 - regularization_loss: 0.0000e+00 - total_loss: 37982.1516\n",
      "Epoch 59/100\n",
      "10/10 [==============================] - 43s 4s/step - factorized_top_k/top_1_categorical_accuracy: 0.1054 - factorized_top_k/top_5_categorical_accuracy: 0.1470 - factorized_top_k/top_10_categorical_accuracy: 0.1733 - factorized_top_k/top_50_categorical_accuracy: 0.2728 - factorized_top_k/top_100_categorical_accuracy: 0.3369 - loss: 37970.3793 - regularization_loss: 0.0000e+00 - total_loss: 37970.3793\n",
      "Epoch 60/100\n",
      "10/10 [==============================] - 43s 4s/step - factorized_top_k/top_1_categorical_accuracy: 0.1054 - factorized_top_k/top_5_categorical_accuracy: 0.1471 - factorized_top_k/top_10_categorical_accuracy: 0.1732 - factorized_top_k/top_50_categorical_accuracy: 0.2728 - factorized_top_k/top_100_categorical_accuracy: 0.3369 - loss: 37958.9094 - regularization_loss: 0.0000e+00 - total_loss: 37958.9094\n",
      "Epoch 61/100\n",
      "10/10 [==============================] - 43s 4s/step - factorized_top_k/top_1_categorical_accuracy: 0.1058 - factorized_top_k/top_5_categorical_accuracy: 0.1475 - factorized_top_k/top_10_categorical_accuracy: 0.1738 - factorized_top_k/top_50_categorical_accuracy: 0.2734 - factorized_top_k/top_100_categorical_accuracy: 0.3375 - loss: 37947.8832 - regularization_loss: 0.0000e+00 - total_loss: 37947.8832\n",
      "Epoch 62/100\n",
      "10/10 [==============================] - 43s 4s/step - factorized_top_k/top_1_categorical_accuracy: 0.1058 - factorized_top_k/top_5_categorical_accuracy: 0.1476 - factorized_top_k/top_10_categorical_accuracy: 0.1737 - factorized_top_k/top_50_categorical_accuracy: 0.2734 - factorized_top_k/top_100_categorical_accuracy: 0.3374 - loss: 37937.1342 - regularization_loss: 0.0000e+00 - total_loss: 37937.1342\n",
      "Epoch 63/100\n",
      "10/10 [==============================] - 43s 4s/step - factorized_top_k/top_1_categorical_accuracy: 0.1063 - factorized_top_k/top_5_categorical_accuracy: 0.1480 - factorized_top_k/top_10_categorical_accuracy: 0.1742 - factorized_top_k/top_50_categorical_accuracy: 0.2738 - factorized_top_k/top_100_categorical_accuracy: 0.3379 - loss: 37926.7766 - regularization_loss: 0.0000e+00 - total_loss: 37926.7766\n",
      "Epoch 64/100\n",
      "10/10 [==============================] - 43s 4s/step - factorized_top_k/top_1_categorical_accuracy: 0.1060 - factorized_top_k/top_5_categorical_accuracy: 0.1478 - factorized_top_k/top_10_categorical_accuracy: 0.1739 - factorized_top_k/top_50_categorical_accuracy: 0.2737 - factorized_top_k/top_100_categorical_accuracy: 0.3378 - loss: 37916.6626 - regularization_loss: 0.0000e+00 - total_loss: 37916.6626\n",
      "Epoch 65/100\n",
      "10/10 [==============================] - 43s 4s/step - factorized_top_k/top_1_categorical_accuracy: 0.1066 - factorized_top_k/top_5_categorical_accuracy: 0.1483 - factorized_top_k/top_10_categorical_accuracy: 0.1746 - factorized_top_k/top_50_categorical_accuracy: 0.2742 - factorized_top_k/top_100_categorical_accuracy: 0.3383 - loss: 37906.8892 - regularization_loss: 0.0000e+00 - total_loss: 37906.8892\n",
      "Epoch 66/100\n",
      "10/10 [==============================] - 43s 4s/step - factorized_top_k/top_1_categorical_accuracy: 0.1063 - factorized_top_k/top_5_categorical_accuracy: 0.1481 - factorized_top_k/top_10_categorical_accuracy: 0.1742 - factorized_top_k/top_50_categorical_accuracy: 0.2741 - factorized_top_k/top_100_categorical_accuracy: 0.3381 - loss: 37897.3466 - regularization_loss: 0.0000e+00 - total_loss: 37897.3466\n",
      "Epoch 67/100\n",
      "10/10 [==============================] - 43s 4s/step - factorized_top_k/top_1_categorical_accuracy: 0.1067 - factorized_top_k/top_5_categorical_accuracy: 0.1483 - factorized_top_k/top_10_categorical_accuracy: 0.1748 - factorized_top_k/top_50_categorical_accuracy: 0.2745 - factorized_top_k/top_100_categorical_accuracy: 0.3386 - loss: 37888.1179 - regularization_loss: 0.0000e+00 - total_loss: 37888.1179\n",
      "Epoch 68/100\n",
      "10/10 [==============================] - 43s 4s/step - factorized_top_k/top_1_categorical_accuracy: 0.1066 - factorized_top_k/top_5_categorical_accuracy: 0.1483 - factorized_top_k/top_10_categorical_accuracy: 0.1744 - factorized_top_k/top_50_categorical_accuracy: 0.2745 - factorized_top_k/top_100_categorical_accuracy: 0.3385 - loss: 37879.0874 - regularization_loss: 0.0000e+00 - total_loss: 37879.0874\n",
      "Epoch 69/100\n",
      "10/10 [==============================] - 43s 4s/step - factorized_top_k/top_1_categorical_accuracy: 0.1071 - factorized_top_k/top_5_categorical_accuracy: 0.1488 - factorized_top_k/top_10_categorical_accuracy: 0.1752 - factorized_top_k/top_50_categorical_accuracy: 0.2750 - factorized_top_k/top_100_categorical_accuracy: 0.3391 - loss: 37870.3572 - regularization_loss: 0.0000e+00 - total_loss: 37870.3572\n",
      "Epoch 70/100\n",
      "10/10 [==============================] - 43s 4s/step - factorized_top_k/top_1_categorical_accuracy: 0.1070 - factorized_top_k/top_5_categorical_accuracy: 0.1486 - factorized_top_k/top_10_categorical_accuracy: 0.1748 - factorized_top_k/top_50_categorical_accuracy: 0.2748 - factorized_top_k/top_100_categorical_accuracy: 0.3390 - loss: 37861.8263 - regularization_loss: 0.0000e+00 - total_loss: 37861.8263\n",
      "Epoch 71/100\n",
      "10/10 [==============================] - 43s 4s/step - factorized_top_k/top_1_categorical_accuracy: 0.1073 - factorized_top_k/top_5_categorical_accuracy: 0.1489 - factorized_top_k/top_10_categorical_accuracy: 0.1753 - factorized_top_k/top_50_categorical_accuracy: 0.2753 - factorized_top_k/top_100_categorical_accuracy: 0.3395 - loss: 37853.5387 - regularization_loss: 0.0000e+00 - total_loss: 37853.5387\n",
      "Epoch 72/100\n",
      "10/10 [==============================] - 44s 4s/step - factorized_top_k/top_1_categorical_accuracy: 0.1071 - factorized_top_k/top_5_categorical_accuracy: 0.1488 - factorized_top_k/top_10_categorical_accuracy: 0.1750 - factorized_top_k/top_50_categorical_accuracy: 0.2753 - factorized_top_k/top_100_categorical_accuracy: 0.3394 - loss: 37845.4624 - regularization_loss: 0.0000e+00 - total_loss: 37845.4624\n",
      "Epoch 73/100\n",
      "10/10 [==============================] - 43s 4s/step - factorized_top_k/top_1_categorical_accuracy: 0.1075 - factorized_top_k/top_5_categorical_accuracy: 0.1492 - factorized_top_k/top_10_categorical_accuracy: 0.1756 - factorized_top_k/top_50_categorical_accuracy: 0.2754 - factorized_top_k/top_100_categorical_accuracy: 0.3398 - loss: 37837.6023 - regularization_loss: 0.0000e+00 - total_loss: 37837.6023\n",
      "Epoch 74/100\n",
      "10/10 [==============================] - 43s 4s/step - factorized_top_k/top_1_categorical_accuracy: 0.1074 - factorized_top_k/top_5_categorical_accuracy: 0.1492 - factorized_top_k/top_10_categorical_accuracy: 0.1754 - factorized_top_k/top_50_categorical_accuracy: 0.2754 - factorized_top_k/top_100_categorical_accuracy: 0.3397 - loss: 37829.9233 - regularization_loss: 0.0000e+00 - total_loss: 37829.9233\n",
      "Epoch 75/100\n",
      "10/10 [==============================] - 44s 4s/step - factorized_top_k/top_1_categorical_accuracy: 0.1075 - factorized_top_k/top_5_categorical_accuracy: 0.1494 - factorized_top_k/top_10_categorical_accuracy: 0.1757 - factorized_top_k/top_50_categorical_accuracy: 0.2757 - factorized_top_k/top_100_categorical_accuracy: 0.3401 - loss: 37822.4535 - regularization_loss: 0.0000e+00 - total_loss: 37822.4535\n",
      "Epoch 76/100\n",
      "10/10 [==============================] - 44s 4s/step - factorized_top_k/top_1_categorical_accuracy: 0.1075 - factorized_top_k/top_5_categorical_accuracy: 0.1495 - factorized_top_k/top_10_categorical_accuracy: 0.1757 - factorized_top_k/top_50_categorical_accuracy: 0.2758 - factorized_top_k/top_100_categorical_accuracy: 0.3402 - loss: 37815.1637 - regularization_loss: 0.0000e+00 - total_loss: 37815.1637\n",
      "Epoch 77/100\n",
      "10/10 [==============================] - 44s 4s/step - factorized_top_k/top_1_categorical_accuracy: 0.1077 - factorized_top_k/top_5_categorical_accuracy: 0.1495 - factorized_top_k/top_10_categorical_accuracy: 0.1758 - factorized_top_k/top_50_categorical_accuracy: 0.2759 - factorized_top_k/top_100_categorical_accuracy: 0.3404 - loss: 37808.0568 - regularization_loss: 0.0000e+00 - total_loss: 37808.0568\n",
      "Epoch 78/100\n",
      "10/10 [==============================] - 44s 4s/step - factorized_top_k/top_1_categorical_accuracy: 0.1077 - factorized_top_k/top_5_categorical_accuracy: 0.1494 - factorized_top_k/top_10_categorical_accuracy: 0.1758 - factorized_top_k/top_50_categorical_accuracy: 0.2761 - factorized_top_k/top_100_categorical_accuracy: 0.3404 - loss: 37801.0820 - regularization_loss: 0.0000e+00 - total_loss: 37801.0820\n",
      "Epoch 79/100\n",
      "10/10 [==============================] - 44s 4s/step - factorized_top_k/top_1_categorical_accuracy: 0.1078 - factorized_top_k/top_5_categorical_accuracy: 0.1497 - factorized_top_k/top_10_categorical_accuracy: 0.1761 - factorized_top_k/top_50_categorical_accuracy: 0.2761 - factorized_top_k/top_100_categorical_accuracy: 0.3406 - loss: 37794.3246 - regularization_loss: 0.0000e+00 - total_loss: 37794.3246\n",
      "Epoch 80/100\n",
      "10/10 [==============================] - 43s 4s/step - factorized_top_k/top_1_categorical_accuracy: 0.1079 - factorized_top_k/top_5_categorical_accuracy: 0.1496 - factorized_top_k/top_10_categorical_accuracy: 0.1759 - factorized_top_k/top_50_categorical_accuracy: 0.2763 - factorized_top_k/top_100_categorical_accuracy: 0.3406 - loss: 37787.6609 - regularization_loss: 0.0000e+00 - total_loss: 37787.6609\n",
      "Epoch 81/100\n",
      "10/10 [==============================] - 44s 4s/step - factorized_top_k/top_1_categorical_accuracy: 0.1079 - factorized_top_k/top_5_categorical_accuracy: 0.1497 - factorized_top_k/top_10_categorical_accuracy: 0.1761 - factorized_top_k/top_50_categorical_accuracy: 0.2762 - factorized_top_k/top_100_categorical_accuracy: 0.3408 - loss: 37781.1957 - regularization_loss: 0.0000e+00 - total_loss: 37781.1957\n",
      "Epoch 82/100\n",
      "10/10 [==============================] - 44s 4s/step - factorized_top_k/top_1_categorical_accuracy: 0.1080 - factorized_top_k/top_5_categorical_accuracy: 0.1497 - factorized_top_k/top_10_categorical_accuracy: 0.1761 - factorized_top_k/top_50_categorical_accuracy: 0.2765 - factorized_top_k/top_100_categorical_accuracy: 0.3410 - loss: 37774.8185 - regularization_loss: 0.0000e+00 - total_loss: 37774.8185\n",
      "Epoch 83/100\n",
      "10/10 [==============================] - 44s 4s/step - factorized_top_k/top_1_categorical_accuracy: 0.1080 - factorized_top_k/top_5_categorical_accuracy: 0.1499 - factorized_top_k/top_10_categorical_accuracy: 0.1763 - factorized_top_k/top_50_categorical_accuracy: 0.2763 - factorized_top_k/top_100_categorical_accuracy: 0.3409 - loss: 37768.6353 - regularization_loss: 0.0000e+00 - total_loss: 37768.6353\n",
      "Epoch 84/100\n",
      "10/10 [==============================] - 44s 4s/step - factorized_top_k/top_1_categorical_accuracy: 0.1082 - factorized_top_k/top_5_categorical_accuracy: 0.1500 - factorized_top_k/top_10_categorical_accuracy: 0.1763 - factorized_top_k/top_50_categorical_accuracy: 0.2767 - factorized_top_k/top_100_categorical_accuracy: 0.3413 - loss: 37762.5394 - regularization_loss: 0.0000e+00 - total_loss: 37762.5394\n",
      "Epoch 85/100\n",
      "10/10 [==============================] - 44s 4s/step - factorized_top_k/top_1_categorical_accuracy: 0.1081 - factorized_top_k/top_5_categorical_accuracy: 0.1500 - factorized_top_k/top_10_categorical_accuracy: 0.1763 - factorized_top_k/top_50_categorical_accuracy: 0.2765 - factorized_top_k/top_100_categorical_accuracy: 0.3411 - loss: 37756.6172 - regularization_loss: 0.0000e+00 - total_loss: 37756.6172\n",
      "Epoch 86/100\n",
      "10/10 [==============================] - 44s 4s/step - factorized_top_k/top_1_categorical_accuracy: 0.1082 - factorized_top_k/top_5_categorical_accuracy: 0.1500 - factorized_top_k/top_10_categorical_accuracy: 0.1765 - factorized_top_k/top_50_categorical_accuracy: 0.2769 - factorized_top_k/top_100_categorical_accuracy: 0.3413 - loss: 37750.7926 - regularization_loss: 0.0000e+00 - total_loss: 37750.7926\n",
      "Epoch 87/100\n",
      "10/10 [==============================] - 44s 4s/step - factorized_top_k/top_1_categorical_accuracy: 0.1080 - factorized_top_k/top_5_categorical_accuracy: 0.1499 - factorized_top_k/top_10_categorical_accuracy: 0.1763 - factorized_top_k/top_50_categorical_accuracy: 0.2766 - factorized_top_k/top_100_categorical_accuracy: 0.3411 - loss: 37745.1161 - regularization_loss: 0.0000e+00 - total_loss: 37745.1161\n",
      "Epoch 88/100\n",
      "10/10 [==============================] - 44s 4s/step - factorized_top_k/top_1_categorical_accuracy: 0.1082 - factorized_top_k/top_5_categorical_accuracy: 0.1498 - factorized_top_k/top_10_categorical_accuracy: 0.1766 - factorized_top_k/top_50_categorical_accuracy: 0.2768 - factorized_top_k/top_100_categorical_accuracy: 0.3412 - loss: 37739.5366 - regularization_loss: 0.0000e+00 - total_loss: 37739.5366\n",
      "Epoch 89/100\n",
      "10/10 [==============================] - 43s 4s/step - factorized_top_k/top_1_categorical_accuracy: 0.1083 - factorized_top_k/top_5_categorical_accuracy: 0.1501 - factorized_top_k/top_10_categorical_accuracy: 0.1767 - factorized_top_k/top_50_categorical_accuracy: 0.2770 - factorized_top_k/top_100_categorical_accuracy: 0.3413 - loss: 37734.0884 - regularization_loss: 0.0000e+00 - total_loss: 37734.0884\n",
      "Epoch 90/100\n",
      "10/10 [==============================] - 44s 4s/step - factorized_top_k/top_1_categorical_accuracy: 0.1083 - factorized_top_k/top_5_categorical_accuracy: 0.1499 - factorized_top_k/top_10_categorical_accuracy: 0.1766 - factorized_top_k/top_50_categorical_accuracy: 0.2771 - factorized_top_k/top_100_categorical_accuracy: 0.3414 - loss: 37728.7351 - regularization_loss: 0.0000e+00 - total_loss: 37728.7351\n",
      "Epoch 91/100\n",
      "10/10 [==============================] - 44s 4s/step - factorized_top_k/top_1_categorical_accuracy: 0.1084 - factorized_top_k/top_5_categorical_accuracy: 0.1501 - factorized_top_k/top_10_categorical_accuracy: 0.1767 - factorized_top_k/top_50_categorical_accuracy: 0.2772 - factorized_top_k/top_100_categorical_accuracy: 0.3415 - loss: 37723.4890 - regularization_loss: 0.0000e+00 - total_loss: 37723.4890\n",
      "Epoch 92/100\n",
      "10/10 [==============================] - 44s 4s/step - factorized_top_k/top_1_categorical_accuracy: 0.1085 - factorized_top_k/top_5_categorical_accuracy: 0.1501 - factorized_top_k/top_10_categorical_accuracy: 0.1767 - factorized_top_k/top_50_categorical_accuracy: 0.2772 - factorized_top_k/top_100_categorical_accuracy: 0.3417 - loss: 37718.3256 - regularization_loss: 0.0000e+00 - total_loss: 37718.3256\n",
      "Epoch 93/100\n",
      "10/10 [==============================] - 43s 4s/step - factorized_top_k/top_1_categorical_accuracy: 0.1087 - factorized_top_k/top_5_categorical_accuracy: 0.1505 - factorized_top_k/top_10_categorical_accuracy: 0.1770 - factorized_top_k/top_50_categorical_accuracy: 0.2776 - factorized_top_k/top_100_categorical_accuracy: 0.3420 - loss: 37713.2809 - regularization_loss: 0.0000e+00 - total_loss: 37713.2809\n",
      "Epoch 94/100\n",
      "10/10 [==============================] - 44s 4s/step - factorized_top_k/top_1_categorical_accuracy: 0.1088 - factorized_top_k/top_5_categorical_accuracy: 0.1504 - factorized_top_k/top_10_categorical_accuracy: 0.1768 - factorized_top_k/top_50_categorical_accuracy: 0.2776 - factorized_top_k/top_100_categorical_accuracy: 0.3420 - loss: 37708.3043 - regularization_loss: 0.0000e+00 - total_loss: 37708.3043\n",
      "Epoch 95/100\n",
      "10/10 [==============================] - 44s 4s/step - factorized_top_k/top_1_categorical_accuracy: 0.1089 - factorized_top_k/top_5_categorical_accuracy: 0.1506 - factorized_top_k/top_10_categorical_accuracy: 0.1772 - factorized_top_k/top_50_categorical_accuracy: 0.2777 - factorized_top_k/top_100_categorical_accuracy: 0.3421 - loss: 37703.4464 - regularization_loss: 0.0000e+00 - total_loss: 37703.4464\n",
      "Epoch 96/100\n",
      "10/10 [==============================] - 43s 4s/step - factorized_top_k/top_1_categorical_accuracy: 0.1089 - factorized_top_k/top_5_categorical_accuracy: 0.1505 - factorized_top_k/top_10_categorical_accuracy: 0.1770 - factorized_top_k/top_50_categorical_accuracy: 0.2777 - factorized_top_k/top_100_categorical_accuracy: 0.3421 - loss: 37698.6644 - regularization_loss: 0.0000e+00 - total_loss: 37698.6644\n",
      "Epoch 97/100\n",
      "10/10 [==============================] - 44s 4s/step - factorized_top_k/top_1_categorical_accuracy: 0.1091 - factorized_top_k/top_5_categorical_accuracy: 0.1508 - factorized_top_k/top_10_categorical_accuracy: 0.1774 - factorized_top_k/top_50_categorical_accuracy: 0.2779 - factorized_top_k/top_100_categorical_accuracy: 0.3422 - loss: 37693.9943 - regularization_loss: 0.0000e+00 - total_loss: 37693.9943\n",
      "Epoch 98/100\n",
      "10/10 [==============================] - 44s 4s/step - factorized_top_k/top_1_categorical_accuracy: 0.1090 - factorized_top_k/top_5_categorical_accuracy: 0.1506 - factorized_top_k/top_10_categorical_accuracy: 0.1771 - factorized_top_k/top_50_categorical_accuracy: 0.2779 - factorized_top_k/top_100_categorical_accuracy: 0.3422 - loss: 37689.3885 - regularization_loss: 0.0000e+00 - total_loss: 37689.3885\n",
      "Epoch 99/100\n",
      "10/10 [==============================] - 44s 4s/step - factorized_top_k/top_1_categorical_accuracy: 0.1092 - factorized_top_k/top_5_categorical_accuracy: 0.1508 - factorized_top_k/top_10_categorical_accuracy: 0.1773 - factorized_top_k/top_50_categorical_accuracy: 0.2781 - factorized_top_k/top_100_categorical_accuracy: 0.3423 - loss: 37684.8899 - regularization_loss: 0.0000e+00 - total_loss: 37684.8899\n",
      "Epoch 100/100\n",
      "10/10 [==============================] - 44s 4s/step - factorized_top_k/top_1_categorical_accuracy: 0.1090 - factorized_top_k/top_5_categorical_accuracy: 0.1506 - factorized_top_k/top_10_categorical_accuracy: 0.1771 - factorized_top_k/top_50_categorical_accuracy: 0.2781 - factorized_top_k/top_100_categorical_accuracy: 0.3423 - loss: 37680.4499 - regularization_loss: 0.0000e+00 - total_loss: 37680.4499\n"
     ]
    },
    {
     "data": {
      "text/plain": [
       "<keras.callbacks.History at 0x289bd70a0>"
      ]
     },
     "execution_count": 18,
     "metadata": {},
     "output_type": "execute_result"
    }
   ],
   "source": [
    "model = DeezerRecModel(user_model, song_model)\n",
    "model.compile(optimizer=tf.keras.optimizers.Adagrad(learning_rate=0.1))\n",
    "cached_train = train.shuffle(100_000).batch(8192).cache()\n",
    "cached_test = test.batch(4096).cache()\n",
    "model.fit(cached_train, epochs=100)"
   ]
  },
  {
   "cell_type": "code",
   "execution_count": 19,
   "metadata": {},
   "outputs": [
    {
     "name": "stdout",
     "output_type": "stream",
     "text": [
      "1/1 [==============================] - 3s 3s/step - factorized_top_k/top_1_categorical_accuracy: 0.1080 - factorized_top_k/top_5_categorical_accuracy: 0.1220 - factorized_top_k/top_10_categorical_accuracy: 0.1455 - factorized_top_k/top_50_categorical_accuracy: 0.2010 - factorized_top_k/top_100_categorical_accuracy: 0.2390 - loss: 13646.0674 - regularization_loss: 0.0000e+00 - total_loss: 13646.0674\n"
     ]
    }
   ],
   "source": [
    "results = model.evaluate(cached_test, return_dict=True)"
   ]
  },
  {
   "cell_type": "code",
   "execution_count": 23,
   "metadata": {},
   "outputs": [
    {
     "data": {
      "image/png": "[encoded data removed]",
      "text/plain": [
       "<Figure size 640x480 with 1 Axes>"
      ]
     },
     "metadata": {},
     "output_type": "display_data"
    }
   ],
   "source": [
    "# show results\n",
    "labels = []\n",
    "[labels.append(f'top {i}') for i in [1, 5, 10, 50, 100]]\n",
    "\n",
    "fig, ax = plt.subplots()\n",
    "ax.bar(labels, list(results.values())[:5])\n",
    "#ax.set_ylim([0.125, 0.23])\n",
    "plt.xticks(rotation=30, ha='right')\n",
    "plt.title('Top k accuracies (100 epochs)')\n",
    "plt.savefig(\"../figures/top_k_accuracies.png\")\n"
   ]
  },
  {
   "cell_type": "code",
   "execution_count": 21,
   "metadata": {},
   "outputs": [
    {
     "name": "stdout",
     "output_type": "stream",
     "text": [
      "Song id Recommendations for user: [b'14747633']\n"
     ]
    }
   ],
   "source": [
    "# Recommendation for a single user\n",
    "index = tfrs.layers.factorized_top_k.BruteForce(model.user_model)\n",
    "index.index_from_dataset(\n",
    "  tf.data.Dataset.zip((songs.batch(1000), songs.batch(1000).map(model.song_model)))\n",
    ")\n",
    "\n",
    "_, titles = index(tf.constant([\"1387\"]))\n",
    "print(f\"Song id Recommendations for user: {titles[0, :1]}\")"
   ]
  },
  {
   "cell_type": "code",
   "execution_count": 24,
   "metadata": {},
   "outputs": [
    {
     "data": {
      "text/plain": [
       "dict_values([0.1080000028014183, 0.12200000137090683, 0.14550000429153442, 0.20100000500679016, 0.23899999260902405, 13646.0673828125, 0, 13646.0673828125])"
      ]
     },
     "execution_count": 24,
     "metadata": {},
     "output_type": "execute_result"
    }
   ],
   "source": [
    "results.values()\n"
   ]
  },
  {
   "cell_type": "code",
   "execution_count": null,
   "metadata": {},
   "outputs": [],
   "source": []
  }
 ],
 "metadata": {
  "kernelspec": {
   "display_name": "deezer_recommendation-LXH-S8nB",
   "language": "python",
   "name": "python3"
  },
  "language_info": {
   "codemirror_mode": {
    "name": "ipython",
    "version": 3
   },
   "file_extension": ".py",
   "mimetype": "text/x-python",
   "name": "python",
   "nbconvert_exporter": "python",
   "pygments_lexer": "ipython3",
   "version": "3.10.9"
  },
  "orig_nbformat": 4,
  "vscode": {
   "interpreter": {
    "hash": "7a25f741d35dae877df10624e2b896bc7b21e32390eb0ff94c7989a0b15a6df6"
   }
  }
 },
 "nbformat": 4,
 "nbformat_minor": 2
}
